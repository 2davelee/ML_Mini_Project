{
 "cells": [
  {
   "cell_type": "code",
   "execution_count": 1,
   "id": "6fb66489-7173-41ff-aac0-d90736969a65",
   "metadata": {},
   "outputs": [],
   "source": [
    "import numpy as np\n",
    "import pandas as pd\n",
    "\n",
    "from sklearn.preprocessing import StandardScaler\n",
    "from sklearn.decomposition import PCA\n",
    "\n",
    "# model import\n",
    "from xgboost import XGBRFClassifier"
   ]
  },
  {
   "cell_type": "code",
   "execution_count": 2,
   "id": "2f109bf1-d096-4858-8321-7690768519ba",
   "metadata": {},
   "outputs": [
    {
     "name": "stdout",
     "output_type": "stream",
     "text": [
      "{'colsample_bynode': 0.6650497566550777, 'gamma': 0.321582764680029, 'learning_rate': 0.03768717586862382, 'max_depth': 9, 'min_child_weight': 9, 'n_estimators': 263, 'reg_alpha': 0.08175903194887191, 'reg_lambda': 0.8735786241067772, 'scale_pos_weight': 0.9208724005318132, 'subsample': 0.5305389799274318}\n"
     ]
    }
   ],
   "source": [
    "# StandardScaler 스케일링 + 시간제거\n",
    "import pandas as pd\n",
    "\n",
    "df_train = pd.read_csv('d:/2023 - Big data Bootcamp/Curriculum_Project/2nd_min_project_TEAM_20230612~20230621/모델돌리기/df_train_v3_1m.csv')\n",
    "\n",
    "# 데이터 전처리\n",
    "data = df_train.drop(columns=['answer', 'year', 'month', 'day', 'hour'])\n",
    "target = df_train['answer']\n",
    "\n",
    "#스케일링\n",
    "scaler = StandardScaler()\n",
    "data_scaled = scaler.fit_transform(data)\n",
    "\n",
    "# PCA를 사용하여 차원 축소\n",
    "pca = PCA(n_components = 10)  # 목표 차원 수로 조정\n",
    "data_pca = pca.fit_transform(data_scaled)\n",
    "\n",
    "from sklearn.model_selection import RandomizedSearchCV\n",
    "from scipy.stats import randint, uniform\n",
    "\n",
    "params = {'n_estimators': randint(50, 300),\n",
    "    'max_depth': randint(3, 10),\n",
    "    'learning_rate': uniform(0.01, 0.3),\n",
    "    'subsample': uniform(0.5, 0.5),\n",
    "    'colsample_bynode': uniform(0.5, 0.5),\n",
    "    'reg_alpha': uniform(0, 1),\n",
    "    'reg_lambda': uniform(0, 1),\n",
    "    'min_child_weight': randint(1, 10),\n",
    "    'gamma': uniform(0, 1),\n",
    "    'scale_pos_weight': uniform(0, 1)}\n",
    "\n",
    "gs = RandomizedSearchCV(XGBRFClassifier(random_state=42), params, n_iter=100, n_jobs=-1, random_state=42)\n",
    "gs.fit(data_pca, target)\n",
    "\n",
    "print(gs.best_params_)"
   ]
  }
 ],
 "metadata": {
  "kernelspec": {
   "display_name": "Python 3 (ipykernel)",
   "language": "python",
   "name": "python3"
  },
  "language_info": {
   "codemirror_mode": {
    "name": "ipython",
    "version": 3
   },
   "file_extension": ".py",
   "mimetype": "text/x-python",
   "name": "python",
   "nbconvert_exporter": "python",
   "pygments_lexer": "ipython3",
   "version": "3.11.0"
  }
 },
 "nbformat": 4,
 "nbformat_minor": 5
}
